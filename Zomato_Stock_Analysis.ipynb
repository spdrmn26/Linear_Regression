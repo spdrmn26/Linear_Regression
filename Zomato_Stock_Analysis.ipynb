{
 "cells": [
  {
   "cell_type": "code",
   "execution_count": 6,
   "id": "8d80884a",
   "metadata": {},
   "outputs": [],
   "source": [
    "import pandas as pd\n",
    "from sklearn.linear_model import LinearRegression\n",
    "import numpy as np"
   ]
  },
  {
   "cell_type": "code",
   "execution_count": 7,
   "id": "79f8878a",
   "metadata": {},
   "outputs": [],
   "source": [
    "data = pd.read_csv('zomato.csv')"
   ]
  },
  {
   "cell_type": "code",
   "execution_count": 8,
   "id": "917642eb",
   "metadata": {},
   "outputs": [
    {
     "data": {
      "text/html": [
       "<div>\n",
       "<style scoped>\n",
       "    .dataframe tbody tr th:only-of-type {\n",
       "        vertical-align: middle;\n",
       "    }\n",
       "\n",
       "    .dataframe tbody tr th {\n",
       "        vertical-align: top;\n",
       "    }\n",
       "\n",
       "    .dataframe thead th {\n",
       "        text-align: right;\n",
       "    }\n",
       "</style>\n",
       "<table border=\"1\" class=\"dataframe\">\n",
       "  <thead>\n",
       "    <tr style=\"text-align: right;\">\n",
       "      <th></th>\n",
       "      <th>Date</th>\n",
       "      <th>Open</th>\n",
       "      <th>High</th>\n",
       "      <th>Low</th>\n",
       "      <th>Close</th>\n",
       "      <th>Adj Close</th>\n",
       "      <th>Volume</th>\n",
       "    </tr>\n",
       "  </thead>\n",
       "  <tbody>\n",
       "    <tr>\n",
       "      <th>0</th>\n",
       "      <td>2021-07-23</td>\n",
       "      <td>116.000000</td>\n",
       "      <td>138.899994</td>\n",
       "      <td>115.000000</td>\n",
       "      <td>126.000000</td>\n",
       "      <td>126.000000</td>\n",
       "      <td>694895290</td>\n",
       "    </tr>\n",
       "    <tr>\n",
       "      <th>1</th>\n",
       "      <td>2021-07-26</td>\n",
       "      <td>126.349998</td>\n",
       "      <td>143.750000</td>\n",
       "      <td>125.300003</td>\n",
       "      <td>140.649994</td>\n",
       "      <td>140.649994</td>\n",
       "      <td>249723854</td>\n",
       "    </tr>\n",
       "    <tr>\n",
       "      <th>2</th>\n",
       "      <td>2021-07-27</td>\n",
       "      <td>141.699997</td>\n",
       "      <td>147.800003</td>\n",
       "      <td>127.750000</td>\n",
       "      <td>132.899994</td>\n",
       "      <td>132.899994</td>\n",
       "      <td>240341900</td>\n",
       "    </tr>\n",
       "    <tr>\n",
       "      <th>3</th>\n",
       "      <td>2021-07-28</td>\n",
       "      <td>131.000000</td>\n",
       "      <td>135.000000</td>\n",
       "      <td>123.550003</td>\n",
       "      <td>131.199997</td>\n",
       "      <td>131.199997</td>\n",
       "      <td>159793731</td>\n",
       "    </tr>\n",
       "    <tr>\n",
       "      <th>4</th>\n",
       "      <td>2021-07-29</td>\n",
       "      <td>134.949997</td>\n",
       "      <td>144.000000</td>\n",
       "      <td>132.199997</td>\n",
       "      <td>141.550003</td>\n",
       "      <td>141.550003</td>\n",
       "      <td>117973089</td>\n",
       "    </tr>\n",
       "  </tbody>\n",
       "</table>\n",
       "</div>"
      ],
      "text/plain": [
       "         Date        Open        High         Low       Close   Adj Close  \\\n",
       "0  2021-07-23  116.000000  138.899994  115.000000  126.000000  126.000000   \n",
       "1  2021-07-26  126.349998  143.750000  125.300003  140.649994  140.649994   \n",
       "2  2021-07-27  141.699997  147.800003  127.750000  132.899994  132.899994   \n",
       "3  2021-07-28  131.000000  135.000000  123.550003  131.199997  131.199997   \n",
       "4  2021-07-29  134.949997  144.000000  132.199997  141.550003  141.550003   \n",
       "\n",
       "      Volume  \n",
       "0  694895290  \n",
       "1  249723854  \n",
       "2  240341900  \n",
       "3  159793731  \n",
       "4  117973089  "
      ]
     },
     "execution_count": 8,
     "metadata": {},
     "output_type": "execute_result"
    }
   ],
   "source": [
    "data.head()"
   ]
  },
  {
   "cell_type": "code",
   "execution_count": 12,
   "id": "52b334bd",
   "metadata": {},
   "outputs": [],
   "source": [
    "data = data.drop('Adj Close', axis = 1)"
   ]
  },
  {
   "cell_type": "code",
   "execution_count": 13,
   "id": "8d641b6d",
   "metadata": {},
   "outputs": [],
   "source": [
    "data['Date'] = np.arange(start=0, stop=len(data), step=1)"
   ]
  },
  {
   "cell_type": "code",
   "execution_count": 14,
   "id": "17ac49df",
   "metadata": {},
   "outputs": [
    {
     "data": {
      "text/html": [
       "<div>\n",
       "<style scoped>\n",
       "    .dataframe tbody tr th:only-of-type {\n",
       "        vertical-align: middle;\n",
       "    }\n",
       "\n",
       "    .dataframe tbody tr th {\n",
       "        vertical-align: top;\n",
       "    }\n",
       "\n",
       "    .dataframe thead th {\n",
       "        text-align: right;\n",
       "    }\n",
       "</style>\n",
       "<table border=\"1\" class=\"dataframe\">\n",
       "  <thead>\n",
       "    <tr style=\"text-align: right;\">\n",
       "      <th></th>\n",
       "      <th>Date</th>\n",
       "      <th>Open</th>\n",
       "      <th>High</th>\n",
       "      <th>Low</th>\n",
       "      <th>Close</th>\n",
       "      <th>Volume</th>\n",
       "    </tr>\n",
       "  </thead>\n",
       "  <tbody>\n",
       "    <tr>\n",
       "      <th>0</th>\n",
       "      <td>0</td>\n",
       "      <td>116.000000</td>\n",
       "      <td>138.899994</td>\n",
       "      <td>115.000000</td>\n",
       "      <td>126.000000</td>\n",
       "      <td>694895290</td>\n",
       "    </tr>\n",
       "    <tr>\n",
       "      <th>1</th>\n",
       "      <td>1</td>\n",
       "      <td>126.349998</td>\n",
       "      <td>143.750000</td>\n",
       "      <td>125.300003</td>\n",
       "      <td>140.649994</td>\n",
       "      <td>249723854</td>\n",
       "    </tr>\n",
       "    <tr>\n",
       "      <th>2</th>\n",
       "      <td>2</td>\n",
       "      <td>141.699997</td>\n",
       "      <td>147.800003</td>\n",
       "      <td>127.750000</td>\n",
       "      <td>132.899994</td>\n",
       "      <td>240341900</td>\n",
       "    </tr>\n",
       "    <tr>\n",
       "      <th>3</th>\n",
       "      <td>3</td>\n",
       "      <td>131.000000</td>\n",
       "      <td>135.000000</td>\n",
       "      <td>123.550003</td>\n",
       "      <td>131.199997</td>\n",
       "      <td>159793731</td>\n",
       "    </tr>\n",
       "    <tr>\n",
       "      <th>4</th>\n",
       "      <td>4</td>\n",
       "      <td>134.949997</td>\n",
       "      <td>144.000000</td>\n",
       "      <td>132.199997</td>\n",
       "      <td>141.550003</td>\n",
       "      <td>117973089</td>\n",
       "    </tr>\n",
       "  </tbody>\n",
       "</table>\n",
       "</div>"
      ],
      "text/plain": [
       "   Date        Open        High         Low       Close     Volume\n",
       "0     0  116.000000  138.899994  115.000000  126.000000  694895290\n",
       "1     1  126.349998  143.750000  125.300003  140.649994  249723854\n",
       "2     2  141.699997  147.800003  127.750000  132.899994  240341900\n",
       "3     3  131.000000  135.000000  123.550003  131.199997  159793731\n",
       "4     4  134.949997  144.000000  132.199997  141.550003  117973089"
      ]
     },
     "execution_count": 14,
     "metadata": {},
     "output_type": "execute_result"
    }
   ],
   "source": [
    "data.head()"
   ]
  },
  {
   "cell_type": "code",
   "execution_count": 16,
   "id": "0d167b29",
   "metadata": {},
   "outputs": [],
   "source": [
    "y = data.Close\n",
    "x = data.drop('Close', axis = 1)"
   ]
  },
  {
   "cell_type": "code",
   "execution_count": 19,
   "id": "1320025f",
   "metadata": {},
   "outputs": [],
   "source": [
    "from sklearn.model_selection import train_test_split\n",
    "x_train, x_test, y_train, y_test = train_test_split(x, y, test_size = 0.2)"
   ]
  },
  {
   "cell_type": "code",
   "execution_count": 23,
   "id": "aaecfe13",
   "metadata": {},
   "outputs": [
    {
     "data": {
      "text/plain": [
       "LinearRegression()"
      ]
     },
     "execution_count": 23,
     "metadata": {},
     "output_type": "execute_result"
    }
   ],
   "source": [
    "model = LinearRegression()\n",
    "model.fit(x_train, y_train)"
   ]
  },
  {
   "cell_type": "code",
   "execution_count": 24,
   "id": "d36505fb",
   "metadata": {},
   "outputs": [
    {
     "data": {
      "text/plain": [
       "array([ 62.54853295, 135.25336861,  98.12801609,  53.78953697,\n",
       "        85.46242824, 141.15824503,  78.09690871,  82.41278241,\n",
       "        50.753804  ,  55.52831731,  80.50221838, 124.63892949,\n",
       "       136.20298358, 156.43270352, 146.09206098,  60.2138525 ,\n",
       "        62.02216851, 141.88909499, 125.78093961, 119.08680869,\n",
       "        64.64140655,  78.17919315,  58.30427895,  78.5859364 ,\n",
       "       134.19809757, 101.71830131, 138.90944047,  60.20131808,\n",
       "        80.45070765, 111.93024121,  65.13005005, 115.84535474,\n",
       "       121.96776191,  55.89157256,  63.94779889,  78.52912993,\n",
       "        67.63660574,  59.68199668,  78.53120579,  92.80555143,\n",
       "       107.06926219, 137.33714504,  98.06104913,  63.03618353,\n",
       "        84.33011136,  80.79781042,  94.24554864,  62.71650169,\n",
       "        99.62708322,  58.35748364,  63.68255539,  81.89894686,\n",
       "        86.0418689 , 119.21196334,  53.90380236,  50.74349316,\n",
       "        92.81265997, 134.45202036, 155.17073633,  57.13363004,\n",
       "        65.98783536,  66.49676393,  61.36092949, 154.12582215,\n",
       "        50.85827098,  61.04765573, 131.96314475, 134.42957777,\n",
       "        59.24907878,  58.06895378, 138.10599587,  64.03139212,\n",
       "       102.51436753,  81.01023388, 107.60958322, 141.67011685,\n",
       "       128.87616306,  64.45405143,  79.79166179, 127.02203981,\n",
       "        91.78443907,  59.22259849,  51.238373  ,  51.7896383 ,\n",
       "        78.75735485,  71.89012189,  49.9151431 ,  57.19716857,\n",
       "       135.02232121,  67.84392473,  92.28881887,  61.2806313 ,\n",
       "        65.32311204,  63.29229108,  61.04962691,  53.51699588,\n",
       "       136.25386507,  80.89294043,  59.60754671,  66.72055426,\n",
       "       123.62968031, 138.4360617 ,  98.09854274, 143.70549038,\n",
       "        68.01910873,  62.38636138,  83.89897459,  67.00429781,\n",
       "       136.47185951,  53.96933793, 130.25693185,  63.43568232,\n",
       "        59.64649446, 127.74489138,  67.8026674 ,  63.87139441,\n",
       "        80.29524566,  98.04686802,  57.9577105 ,  83.68236865,\n",
       "        69.42262928,  50.07055436,  76.52439577,  75.94310162,\n",
       "        76.53253065, 136.86553455,  66.3437562 ])"
      ]
     },
     "execution_count": 24,
     "metadata": {},
     "output_type": "execute_result"
    }
   ],
   "source": [
    "model.predict(x_test)"
   ]
  },
  {
   "cell_type": "code",
   "execution_count": 25,
   "id": "c74daa9c",
   "metadata": {},
   "outputs": [
    {
     "data": {
      "text/plain": [
       "446     62.599998\n",
       "57     135.000000\n",
       "526     98.199997\n",
       "406     53.849998\n",
       "500     86.800003\n",
       "          ...    \n",
       "161     75.949997\n",
       "472     75.849998\n",
       "188     75.849998\n",
       "61     138.149994\n",
       "302     65.550003\n",
       "Name: Close, Length: 127, dtype: float64"
      ]
     },
     "execution_count": 25,
     "metadata": {},
     "output_type": "execute_result"
    }
   ],
   "source": [
    "y_test"
   ]
  },
  {
   "cell_type": "code",
   "execution_count": null,
   "id": "ea90bfd1",
   "metadata": {},
   "outputs": [],
   "source": []
  }
 ],
 "metadata": {
  "kernelspec": {
   "display_name": "Python 3 (ipykernel)",
   "language": "python",
   "name": "python3"
  },
  "language_info": {
   "codemirror_mode": {
    "name": "ipython",
    "version": 3
   },
   "file_extension": ".py",
   "mimetype": "text/x-python",
   "name": "python",
   "nbconvert_exporter": "python",
   "pygments_lexer": "ipython3",
   "version": "3.9.13"
  }
 },
 "nbformat": 4,
 "nbformat_minor": 5
}
